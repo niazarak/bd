{
 "cells": [
  {
   "cell_type": "markdown",
   "metadata": {},
   "source": [
    "# Подключение к хранилищу"
   ]
  },
  {
   "cell_type": "code",
   "execution_count": 1,
   "metadata": {},
   "outputs": [],
   "source": [
    "import pyspark\n",
    "import pyspark.sql.functions as F\n",
    "import matplotlib.pyplot as plt\n",
    "import numpy as np\n",
    "import collections\n",
    "import scipy\n",
    "import scipy.stats"
   ]
  },
  {
   "cell_type": "code",
   "execution_count": 2,
   "metadata": {},
   "outputs": [],
   "source": [
    "\n",
    "spark = pyspark.sql.SparkSession.builder.appName(\"startup_app\") \\\n",
    "    .config(\"spark.mongodb.input.uri\", \"mongodb://mongo/startup_db.startups_coll\") \\\n",
    "    .config('spark.jars', 'jars/mongo-spark-connector_2.11-2.4.2-assembly.jar') \\\n",
    "    .config('spark.jars.packages', 'org.mongodb.spark:mongo-spark-connector_2.11:2.4.2') \\\n",
    "    .getOrCreate()\n"
   ]
  },
  {
   "cell_type": "code",
   "execution_count": 3,
   "metadata": {},
   "outputs": [],
   "source": [
    "df = spark.read.format('mongo').load()"
   ]
  },
  {
   "cell_type": "code",
   "execution_count": 4,
   "metadata": {},
   "outputs": [
    {
     "name": "stdout",
     "output_type": "stream",
     "text": [
      "root\n",
      " |-- _id: struct (nullable = true)\n",
      " |    |-- oid: string (nullable = true)\n",
      " |-- angel_id: integer (nullable = true)\n",
      " |-- angel_url: string (nullable = true)\n",
      " |-- desc: string (nullable = true)\n",
      " |-- employees: string (nullable = true)\n",
      " |-- founders: array (nullable = true)\n",
      " |    |-- element: struct (containsNull = true)\n",
      " |    |    |-- link: string (nullable = true)\n",
      " |    |    |-- name: string (nullable = true)\n",
      " |    |    |-- bio: string (nullable = true)\n",
      " |-- location: string (nullable = true)\n",
      " |-- name: string (nullable = true)\n",
      " |-- raised: long (nullable = true)\n",
      " |-- website: string (nullable = true)\n",
      "\n"
     ]
    }
   ],
   "source": [
    "df.printSchema()"
   ]
  },
  {
   "cell_type": "markdown",
   "metadata": {},
   "source": [
    "# Построение запросов"
   ]
  },
  {
   "cell_type": "markdown",
   "metadata": {},
   "source": [
    "### Распределение полученных инвестиций"
   ]
  },
  {
   "cell_type": "code",
   "execution_count": 5,
   "metadata": {},
   "outputs": [],
   "source": [
    "raised_df = df.where(F.col('raised') > 0).select('raised')"
   ]
  },
  {
   "cell_type": "code",
   "execution_count": 6,
   "metadata": {},
   "outputs": [
    {
     "data": {
      "text/plain": [
       "[<matplotlib.lines.Line2D at 0x7f1d2b815d90>]"
      ]
     },
     "execution_count": 6,
     "metadata": {},
     "output_type": "execute_result"
    },
    {
     "data": {
      "image/png": "[encoded data removed]",
      "text/plain": [
       "<Figure size 432x288 with 1 Axes>"
      ]
     },
     "metadata": {
      "needs_background": "light"
     },
     "output_type": "display_data"
    }
   ],
   "source": [
    "hist = raised_df.rdd.flatMap(lambda x: x).histogram(50)\n",
    "\n",
    "plt.plot(hist[0][:-1], hist[1])"
   ]
  },
  {
   "cell_type": "code",
   "execution_count": 7,
   "metadata": {},
   "outputs": [
    {
     "data": {
      "text/plain": [
       "(14687606.090074658, 222897795.56456104)"
      ]
     },
     "execution_count": 7,
     "metadata": {},
     "output_type": "execute_result"
    }
   ],
   "source": [
    "mean = raised_df.rdd.flatMap(lambda x: x).mean()\n",
    "stdev = raised_df.rdd.flatMap(lambda x: x).stdev()\n",
    "mean, stdev"
   ]
  },
  {
   "cell_type": "markdown",
   "metadata": {},
   "source": [
    "Видно, что величина инвестиций по различным компаниям распределена экспоненциально.\n",
    "В среднем молодые компании получают $\\$$11.000.000 инвестиций со стандартным отклонением в $\\$$70.000.000."
   ]
  },
  {
   "cell_type": "markdown",
   "metadata": {},
   "source": [
    "## Диаграмма количества основателей"
   ]
  },
  {
   "cell_type": "code",
   "execution_count": 8,
   "metadata": {
    "scrolled": false
   },
   "outputs": [],
   "source": [
    "founders_counts_df = df.select(F.size('founders').alias('founders_count')).where(F.col('founders_count') > 0)\n",
    "founders_counts = founders_counts_df.rdd.flatMap(lambda x: [x]).countByKey()"
   ]
  },
  {
   "cell_type": "code",
   "execution_count": 9,
   "metadata": {},
   "outputs": [
    {
     "data": {
      "text/plain": [
       "1.8886634542226706"
      ]
     },
     "execution_count": 9,
     "metadata": {},
     "output_type": "execute_result"
    }
   ],
   "source": [
    "founders_counts_df.rdd.flatMap(lambda x: x).mean()"
   ]
  },
  {
   "cell_type": "code",
   "execution_count": 10,
   "metadata": {},
   "outputs": [
    {
     "data": {
      "text/plain": [
       "([<matplotlib.patches.Wedge at 0x7f1d3fe84ad0>,\n",
       "  <matplotlib.patches.Wedge at 0x7f1d3fe90450>,\n",
       "  <matplotlib.patches.Wedge at 0x7f1d3fe90d50>,\n",
       "  <matplotlib.patches.Wedge at 0x7f1d3fe97710>,\n",
       "  <matplotlib.patches.Wedge at 0x7f1d3fea2310>,\n",
       "  <matplotlib.patches.Wedge at 0x7f1d3fea2cd0>,\n",
       "  <matplotlib.patches.Wedge at 0x7f1d3feac350>,\n",
       "  <matplotlib.patches.Wedge at 0x7f1d3feacc50>],\n",
       " [Text(0.3637501432409184, 1.0381164834893102, '1'),\n",
       "  Text(-0.9243869287597677, -0.5962455919653281, '2'),\n",
       "  Text(0.7379737264872573, -0.8157173401457829, '3'),\n",
       "  Text(1.0437807824716718, -0.3471623224700871, '5'),\n",
       "  Text(1.086614366379332, -0.17108249114986349, '4'),\n",
       "  Text(1.0999363669991413, -0.011831675820889375, '6'),\n",
       "  Text(1.0999986031893518, -0.0017529921491908208, '7'),\n",
       "  Text(1.09999991265787, -0.0004383522315291321, '8')],\n",
       " [Text(0.19840916904050096, 0.5662453546305328, '39.3%'),\n",
       "  Text(-0.5042110520507823, -0.32522486834472436, '39.7%'),\n",
       "  Text(0.402531123538504, -0.4449367309886088, '15.5%'),\n",
       "  Text(0.5693349722572755, -0.18936126680186566, '0.9%'),\n",
       "  Text(0.5926987452978174, -0.09331772244538007, '4.4%'),\n",
       "  Text(0.5999652910904406, -0.00645364135684875, '0.3%'),\n",
       "  Text(0.5999992381032827, -0.0009561775359222658, '0.0%'),\n",
       "  Text(0.5999999523588381, -0.00023910121719770839, '0.0%')])"
      ]
     },
     "execution_count": 10,
     "metadata": {},
     "output_type": "execute_result"
    },
    {
     "data": {
      "image/png": "[encoded data removed]",
      "text/plain": [
       "<Figure size 432x288 with 1 Axes>"
      ]
     },
     "metadata": {},
     "output_type": "display_data"
    }
   ],
   "source": [
    "plt.pie([v for k,v in founders_counts.items()], labels=[k for k,v in founders_counts.items()], autopct='%1.1f%%')"
   ]
  },
  {
   "cell_type": "markdown",
   "metadata": {},
   "source": [
    "Из диаграммы видно, что часто у стартапов всего 1-2 основателя (в среднем 1.88)."
   ]
  },
  {
   "cell_type": "markdown",
   "metadata": {},
   "source": [
    "### Корреляция количества инвестиций с количеством основателей"
   ]
  },
  {
   "cell_type": "code",
   "execution_count": 11,
   "metadata": {},
   "outputs": [
    {
     "data": {
      "text/plain": [
       "0.024711124374496525"
      ]
     },
     "execution_count": 11,
     "metadata": {},
     "output_type": "execute_result"
    }
   ],
   "source": [
    "from pyspark.mllib.stat import Statistics\n",
    "corr_df = df.select('raised', F.size('founders').alias('founders_count')).where(F.col('raised') < 100_000_000)\n",
    "\n",
    "raides_rdd = corr_df.select('raised').rdd.flatMap(lambda x: x)\n",
    "founders_count_rdd = corr_df.select('founders_count').rdd.flatMap(lambda x: x)\n",
    "\n",
    "corr_mat=Statistics.corr(raides_rdd, founders_count_rdd, method=\"pearson\")\n",
    "\n",
    "corr_mat"
   ]
  },
  {
   "cell_type": "markdown",
   "metadata": {},
   "source": [
    "Результирующа коррелаяиця составляет всего 0.024, что говорит о том, что количество денег, получаемых компанией в рамкех раунда инвестиций никак не коррелирует с количеством основателей."
   ]
  },
  {
   "cell_type": "markdown",
   "metadata": {},
   "source": [
    "# Выводы\n",
    "\n",
    "Пример показывает, что представленная система позволяет усваивать, хранить и анализировать потенциально большие объемы данных.  \n",
    "Данная система легко разворачивается, может горизонтально масштабироваться и представляет гибкие инструменты для аналитика данных.  \n",
    "Информация, полученная на основе примененной аналитики, была использована в исследовательской работе по курсу многомерного анализа данных, что показывает практическую полезность проекта.  \n",
    "\n"
   ]
  },
  {
   "cell_type": "code",
   "execution_count": null,
   "metadata": {},
   "outputs": [],
   "source": []
  }
 ],
 "metadata": {
  "kernelspec": {
   "display_name": "Python 3",
   "language": "python",
   "name": "python3"
  },
  "language_info": {
   "codemirror_mode": {
    "name": "ipython",
    "version": 3
   },
   "file_extension": ".py",
   "mimetype": "text/x-python",
   "name": "python",
   "nbconvert_exporter": "python",
   "pygments_lexer": "ipython3",
   "version": "3.7.6"
  }
 },
 "nbformat": 4,
 "nbformat_minor": 4
}
