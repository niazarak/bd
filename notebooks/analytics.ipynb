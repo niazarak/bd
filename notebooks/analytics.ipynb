{
 "cells": [
  {
   "cell_type": "markdown",
   "metadata": {},
   "source": [
    "# Подключение к хранилищу"
   ]
  },
  {
   "cell_type": "code",
   "execution_count": 1,
   "metadata": {},
   "outputs": [],
   "source": [
    "import pyspark\n",
    "import pyspark.sql.functions as F\n",
    "import matplotlib.pyplot as plt\n",
    "import numpy as np\n",
    "import collections\n",
    "import scipy\n",
    "import scipy.stats"
   ]
  },
  {
   "cell_type": "code",
   "execution_count": 2,
   "metadata": {},
   "outputs": [],
   "source": [
    "\n",
    "spark = pyspark.sql.SparkSession.builder.appName(\"startup_app\") \\\n",
    "    .config(\"spark.mongodb.input.uri\", \"mongodb://mongo/startup_db.startups_coll\") \\\n",
    "    .config('spark.jars', 'jars/mongo-spark-connector_2.11-2.4.2-assembly.jar') \\\n",
    "    .config('spark.jars.packages', 'org.mongodb.spark:mongo-spark-connector_2.11:2.4.2') \\\n",
    "    .getOrCreate()\n"
   ]
  },
  {
   "cell_type": "code",
   "execution_count": 6,
   "metadata": {},
   "outputs": [],
   "source": [
    "df = spark.read.format('mongo').load()"
   ]
  },
  {
   "cell_type": "code",
   "execution_count": 7,
   "metadata": {},
   "outputs": [
    {
     "name": "stdout",
     "output_type": "stream",
     "text": [
      "root\n",
      " |-- _id: struct (nullable = true)\n",
      " |    |-- oid: string (nullable = true)\n",
      " |-- angel_id: integer (nullable = true)\n",
      " |-- angel_url: string (nullable = true)\n",
      " |-- desc: string (nullable = true)\n",
      " |-- employees: string (nullable = true)\n",
      " |-- founders: array (nullable = true)\n",
      " |    |-- element: struct (containsNull = true)\n",
      " |    |    |-- link: string (nullable = true)\n",
      " |    |    |-- name: string (nullable = true)\n",
      " |    |    |-- bio: string (nullable = true)\n",
      " |-- location: string (nullable = true)\n",
      " |-- name: string (nullable = true)\n",
      " |-- raised: integer (nullable = true)\n",
      " |-- website: string (nullable = true)\n",
      "\n"
     ]
    }
   ],
   "source": [
    "df.printSchema()"
   ]
  },
  {
   "cell_type": "markdown",
   "metadata": {},
   "source": [
    "# Построение запросов"
   ]
  },
  {
   "cell_type": "markdown",
   "metadata": {},
   "source": [
    "### Распределение полученных инвестиций"
   ]
  },
  {
   "cell_type": "code",
   "execution_count": 8,
   "metadata": {},
   "outputs": [],
   "source": [
    "raised = df.select('raised').toPandas()\n",
    "raised['raised'] = raised['raised'][raised['raised'] > 0]\n",
    "raised = raised.dropna().to_numpy()"
   ]
  },
  {
   "cell_type": "code",
   "execution_count": 9,
   "metadata": {},
   "outputs": [
    {
     "data": {
      "text/plain": [
       "(array([7.349e+03, 3.340e+02, 1.570e+02, 9.600e+01, 5.300e+01, 3.300e+01,\n",
       "        2.500e+01, 1.900e+01, 1.300e+01, 1.300e+01, 8.000e+00, 7.000e+00,\n",
       "        6.000e+00, 8.000e+00, 2.000e+00, 4.000e+00, 6.000e+00, 1.000e+00,\n",
       "        3.000e+00, 2.000e+00, 2.000e+00, 2.000e+00, 3.000e+00, 0.000e+00,\n",
       "        0.000e+00, 1.000e+00, 0.000e+00, 1.000e+00, 1.000e+00, 0.000e+00,\n",
       "        1.000e+00, 1.000e+00, 1.000e+00, 0.000e+00, 1.000e+00, 0.000e+00,\n",
       "        0.000e+00, 0.000e+00, 0.000e+00, 0.000e+00, 0.000e+00, 2.000e+00,\n",
       "        0.000e+00, 0.000e+00, 0.000e+00, 2.000e+00, 1.000e+00, 0.000e+00,\n",
       "        0.000e+00, 1.000e+00]),\n",
       " array([1.00000000e+00, 1.82400010e+07, 3.64800010e+07, 5.47200009e+07,\n",
       "        7.29600009e+07, 9.12000009e+07, 1.09440001e+08, 1.27680001e+08,\n",
       "        1.45920001e+08, 1.64160001e+08, 1.82400001e+08, 2.00640001e+08,\n",
       "        2.18880001e+08, 2.37120001e+08, 2.55360001e+08, 2.73600001e+08,\n",
       "        2.91840001e+08, 3.10080001e+08, 3.28320001e+08, 3.46560001e+08,\n",
       "        3.64800001e+08, 3.83040001e+08, 4.01280001e+08, 4.19520001e+08,\n",
       "        4.37760001e+08, 4.56000000e+08, 4.74240000e+08, 4.92480000e+08,\n",
       "        5.10720000e+08, 5.28960000e+08, 5.47200000e+08, 5.65440000e+08,\n",
       "        5.83680000e+08, 6.01920000e+08, 6.20160000e+08, 6.38400000e+08,\n",
       "        6.56640000e+08, 6.74880000e+08, 6.93120000e+08, 7.11360000e+08,\n",
       "        7.29600000e+08, 7.47840000e+08, 7.66080000e+08, 7.84320000e+08,\n",
       "        8.02560000e+08, 8.20800000e+08, 8.39040000e+08, 8.57280000e+08,\n",
       "        8.75520000e+08, 8.93760000e+08, 9.12000000e+08]),\n",
       " <a list of 50 Patch objects>)"
      ]
     },
     "execution_count": 9,
     "metadata": {},
     "output_type": "execute_result"
    },
    {
     "data": {
      "image/png": "[encoded data removed]",
      "text/plain": [
       "<Figure size 432x288 with 1 Axes>"
      ]
     },
     "metadata": {
      "needs_background": "light"
     },
     "output_type": "display_data"
    }
   ],
   "source": [
    "clean_raised = [c[0] for c in raised if c[0] < 100_000_0000] # remove outliers\n",
    "plt.hist(clean_raised, bins=50)"
   ]
  },
  {
   "cell_type": "markdown",
   "metadata": {},
   "source": [
    "## Диаграмма количества основателей"
   ]
  },
  {
   "cell_type": "code",
   "execution_count": 10,
   "metadata": {},
   "outputs": [],
   "source": [
    "founders_counts = df.select(F.size('founders').alias('founders_count')).where(F.col('founders_count') > 0).toPandas()\n",
    "founders_counts = founders_counts.to_numpy()[:, 0]\n",
    "\n",
    "founders_counter = collections.Counter(founders_counts)"
   ]
  },
  {
   "cell_type": "code",
   "execution_count": 11,
   "metadata": {},
   "outputs": [
    {
     "data": {
      "text/plain": [
       "([<matplotlib.patches.Wedge at 0x7fdbe4264f50>,\n",
       "  <matplotlib.patches.Wedge at 0x7fdbe421b4d0>,\n",
       "  <matplotlib.patches.Wedge at 0x7fdbe4193990>,\n",
       "  <matplotlib.patches.Wedge at 0x7fdbe4136a10>,\n",
       "  <matplotlib.patches.Wedge at 0x7fdbe41ad6d0>,\n",
       "  <matplotlib.patches.Wedge at 0x7fdbe40c5650>,\n",
       "  <matplotlib.patches.Wedge at 0x7fdbe41c6dd0>,\n",
       "  <matplotlib.patches.Wedge at 0x7fdbe40cd450>],\n",
       " [Text(0.3637501432409184, 1.0381164834893102, '1'),\n",
       "  Text(-0.9243869287597677, -0.5962455919653281, '2'),\n",
       "  Text(0.7379737264872573, -0.8157173401457829, '3'),\n",
       "  Text(1.0437807824716718, -0.3471623224700871, '5'),\n",
       "  Text(1.086614366379332, -0.17108249114986349, '4'),\n",
       "  Text(1.0999363669991413, -0.011831675820889375, '6'),\n",
       "  Text(1.0999986031893518, -0.0017529921491908208, '7'),\n",
       "  Text(1.09999991265787, -0.0004383522315291321, '8')],\n",
       " [Text(0.19840916904050096, 0.5662453546305328, '39.3%'),\n",
       "  Text(-0.5042110520507823, -0.32522486834472436, '39.7%'),\n",
       "  Text(0.402531123538504, -0.4449367309886088, '15.5%'),\n",
       "  Text(0.5693349722572755, -0.18936126680186566, '0.9%'),\n",
       "  Text(0.5926987452978174, -0.09331772244538007, '4.4%'),\n",
       "  Text(0.5999652910904406, -0.00645364135684875, '0.3%'),\n",
       "  Text(0.5999992381032827, -0.0009561775359222658, '0.0%'),\n",
       "  Text(0.5999999523588381, -0.00023910121719770839, '0.0%')])"
      ]
     },
     "execution_count": 11,
     "metadata": {},
     "output_type": "execute_result"
    },
    {
     "data": {
      "image/png": "[encoded data removed]",
      "text/plain": [
       "<Figure size 432x288 with 1 Axes>"
      ]
     },
     "metadata": {},
     "output_type": "display_data"
    }
   ],
   "source": [
    "\n",
    "plt.pie([v for k,v in founders_counter.items()], autopct='%1.1f%%', labels=[k for k,v in founders_counter.items()])"
   ]
  },
  {
   "cell_type": "markdown",
   "metadata": {},
   "source": [
    "### Корреляция количества инвестиций с количеством основателей"
   ]
  },
  {
   "cell_type": "code",
   "execution_count": 12,
   "metadata": {},
   "outputs": [],
   "source": [
    "corr_df = df.select('raised', F.size('founders').alias('founders_count')).where(F.col('raised') < 100_000_000).toPandas()"
   ]
  },
  {
   "cell_type": "code",
   "execution_count": 13,
   "metadata": {},
   "outputs": [
    {
     "data": {
      "text/html": [
       "<div>\n",
       "<style scoped>\n",
       "    .dataframe tbody tr th:only-of-type {\n",
       "        vertical-align: middle;\n",
       "    }\n",
       "\n",
       "    .dataframe tbody tr th {\n",
       "        vertical-align: top;\n",
       "    }\n",
       "\n",
       "    .dataframe thead th {\n",
       "        text-align: right;\n",
       "    }\n",
       "</style>\n",
       "<table border=\"1\" class=\"dataframe\">\n",
       "  <thead>\n",
       "    <tr style=\"text-align: right;\">\n",
       "      <th></th>\n",
       "      <th>raised</th>\n",
       "      <th>founders_count</th>\n",
       "    </tr>\n",
       "  </thead>\n",
       "  <tbody>\n",
       "    <tr>\n",
       "      <th>0</th>\n",
       "      <td>5000</td>\n",
       "      <td>1</td>\n",
       "    </tr>\n",
       "    <tr>\n",
       "      <th>1</th>\n",
       "      <td>2500</td>\n",
       "      <td>0</td>\n",
       "    </tr>\n",
       "    <tr>\n",
       "      <th>2</th>\n",
       "      <td>10000</td>\n",
       "      <td>1</td>\n",
       "    </tr>\n",
       "    <tr>\n",
       "      <th>3</th>\n",
       "      <td>5000</td>\n",
       "      <td>1</td>\n",
       "    </tr>\n",
       "    <tr>\n",
       "      <th>4</th>\n",
       "      <td>4000</td>\n",
       "      <td>1</td>\n",
       "    </tr>\n",
       "    <tr>\n",
       "      <th>...</th>\n",
       "      <td>...</td>\n",
       "      <td>...</td>\n",
       "    </tr>\n",
       "    <tr>\n",
       "      <th>7999</th>\n",
       "      <td>75228850</td>\n",
       "      <td>2</td>\n",
       "    </tr>\n",
       "    <tr>\n",
       "      <th>8000</th>\n",
       "      <td>84000000</td>\n",
       "      <td>3</td>\n",
       "    </tr>\n",
       "    <tr>\n",
       "      <th>8001</th>\n",
       "      <td>59750000</td>\n",
       "      <td>1</td>\n",
       "    </tr>\n",
       "    <tr>\n",
       "      <th>8002</th>\n",
       "      <td>59500000</td>\n",
       "      <td>2</td>\n",
       "    </tr>\n",
       "    <tr>\n",
       "      <th>8003</th>\n",
       "      <td>58600000</td>\n",
       "      <td>2</td>\n",
       "    </tr>\n",
       "  </tbody>\n",
       "</table>\n",
       "<p>8004 rows × 2 columns</p>\n",
       "</div>"
      ],
      "text/plain": [
       "        raised  founders_count\n",
       "0         5000               1\n",
       "1         2500               0\n",
       "2        10000               1\n",
       "3         5000               1\n",
       "4         4000               1\n",
       "...        ...             ...\n",
       "7999  75228850               2\n",
       "8000  84000000               3\n",
       "8001  59750000               1\n",
       "8002  59500000               2\n",
       "8003  58600000               2\n",
       "\n",
       "[8004 rows x 2 columns]"
      ]
     },
     "execution_count": 13,
     "metadata": {},
     "output_type": "execute_result"
    }
   ],
   "source": [
    "corr_df"
   ]
  },
  {
   "cell_type": "code",
   "execution_count": 14,
   "metadata": {},
   "outputs": [
    {
     "data": {
      "text/plain": [
       "<matplotlib.collections.PathCollection at 0x7fdbdfde3410>"
      ]
     },
     "execution_count": 14,
     "metadata": {},
     "output_type": "execute_result"
    },
    {
     "data": {
      "image/png": "[encoded data removed]",
      "text/plain": [
       "<Figure size 432x288 with 1 Axes>"
      ]
     },
     "metadata": {
      "needs_background": "light"
     },
     "output_type": "display_data"
    }
   ],
   "source": [
    "plt.scatter(corr_df['founders_count'], corr_df['raised'])"
   ]
  },
  {
   "cell_type": "code",
   "execution_count": 17,
   "metadata": {},
   "outputs": [
    {
     "data": {
      "text/plain": [
       "(0.024711124374495647,\n",
       " masked_array(data=0.02705143,\n",
       "              mask=False,\n",
       "        fill_value=1e+20))"
      ]
     },
     "execution_count": 17,
     "metadata": {},
     "output_type": "execute_result"
    }
   ],
   "source": [
    "\n",
    "scipy.stats.mstats.pearsonr(corr_df['founders_count'], corr_df['raised']) \n",
    "# those variables are independent"
   ]
  },
  {
   "cell_type": "code",
   "execution_count": null,
   "metadata": {},
   "outputs": [],
   "source": []
  },
  {
   "cell_type": "markdown",
   "metadata": {},
   "source": [
    "# Выводы\n",
    "\n",
    "Пример показывает, что представленная система позволяет усваивать, хранить и анализировать потенциально большие объемы данных.  \n",
    "Данная система легко разворачивается, может горизонтально масштабироваться и представляет гибкие инструменты для аналитика данных.  \n",
    "Информация, полученная на основе примененной аналитики, была использована в исследовательской работе по курсу многомерного анализа данных, что показывает практическую полезность проекта.  \n",
    "\n"
   ]
  },
  {
   "cell_type": "code",
   "execution_count": null,
   "metadata": {},
   "outputs": [],
   "source": []
  }
 ],
 "metadata": {
  "kernelspec": {
   "display_name": "Python 3",
   "language": "python",
   "name": "python3"
  },
  "language_info": {
   "codemirror_mode": {
    "name": "ipython",
    "version": 3
   },
   "file_extension": ".py",
   "mimetype": "text/x-python",
   "name": "python",
   "nbconvert_exporter": "python",
   "pygments_lexer": "ipython3",
   "version": "3.7.6"
  }
 },
 "nbformat": 4,
 "nbformat_minor": 4
}
